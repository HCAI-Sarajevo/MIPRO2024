{
 "cells": [
  {
   "cell_type": "code",
   "execution_count": 1,
   "id": "d3a8f78a",
   "metadata": {},
   "outputs": [],
   "source": [
    "import pandas as pd\n",
    "import numpy as np\n",
    "import matplotlib.pyplot as plt\n",
    "from statsmodels.tsa.arima.model import ARIMA\n",
    "from sklearn.metrics import mean_squared_error, mean_absolute_error"
   ]
  },
  {
   "cell_type": "code",
   "execution_count": 3,
   "id": "807b7d0d",
   "metadata": {},
   "outputs": [
    {
     "data": {
      "text/html": [
       "<div>\n",
       "<style scoped>\n",
       "    .dataframe tbody tr th:only-of-type {\n",
       "        vertical-align: middle;\n",
       "    }\n",
       "\n",
       "    .dataframe tbody tr th {\n",
       "        vertical-align: top;\n",
       "    }\n",
       "\n",
       "    .dataframe thead th {\n",
       "        text-align: right;\n",
       "    }\n",
       "</style>\n",
       "<table border=\"1\" class=\"dataframe\">\n",
       "  <thead>\n",
       "    <tr style=\"text-align: right;\">\n",
       "      <th></th>\n",
       "      <th>AQI</th>\n",
       "    </tr>\n",
       "    <tr>\n",
       "      <th>DateTime</th>\n",
       "      <th></th>\n",
       "    </tr>\n",
       "  </thead>\n",
       "  <tbody>\n",
       "    <tr>\n",
       "      <th>2018-05-22</th>\n",
       "      <td>58.000000</td>\n",
       "    </tr>\n",
       "    <tr>\n",
       "      <th>2018-05-23</th>\n",
       "      <td>55.000000</td>\n",
       "    </tr>\n",
       "    <tr>\n",
       "      <th>2018-05-24</th>\n",
       "      <td>47.958333</td>\n",
       "    </tr>\n",
       "    <tr>\n",
       "      <th>2018-05-25</th>\n",
       "      <td>65.125000</td>\n",
       "    </tr>\n",
       "    <tr>\n",
       "      <th>2018-05-26</th>\n",
       "      <td>72.750000</td>\n",
       "    </tr>\n",
       "    <tr>\n",
       "      <th>...</th>\n",
       "      <td>...</td>\n",
       "    </tr>\n",
       "    <tr>\n",
       "      <th>2023-05-06</th>\n",
       "      <td>48.500000</td>\n",
       "    </tr>\n",
       "    <tr>\n",
       "      <th>2023-05-07</th>\n",
       "      <td>41.375000</td>\n",
       "    </tr>\n",
       "    <tr>\n",
       "      <th>2023-05-08</th>\n",
       "      <td>44.521739</td>\n",
       "    </tr>\n",
       "    <tr>\n",
       "      <th>2023-05-09</th>\n",
       "      <td>29.083333</td>\n",
       "    </tr>\n",
       "    <tr>\n",
       "      <th>2023-05-10</th>\n",
       "      <td>49.000000</td>\n",
       "    </tr>\n",
       "  </tbody>\n",
       "</table>\n",
       "<p>1815 rows × 1 columns</p>\n",
       "</div>"
      ],
      "text/plain": [
       "                  AQI\n",
       "DateTime             \n",
       "2018-05-22  58.000000\n",
       "2018-05-23  55.000000\n",
       "2018-05-24  47.958333\n",
       "2018-05-25  65.125000\n",
       "2018-05-26  72.750000\n",
       "...               ...\n",
       "2023-05-06  48.500000\n",
       "2023-05-07  41.375000\n",
       "2023-05-08  44.521739\n",
       "2023-05-09  29.083333\n",
       "2023-05-10  49.000000\n",
       "\n",
       "[1815 rows x 1 columns]"
      ]
     },
     "execution_count": 3,
     "metadata": {},
     "output_type": "execute_result"
    }
   ],
   "source": [
    "data = pd.read_csv('C:/Pythondatasets/dataset_aqi_daily.csv', parse_dates=True, index_col='DateTime')\n",
    "data"
   ]
  },
  {
   "cell_type": "code",
   "execution_count": 16,
   "id": "84f6fdcc",
   "metadata": {},
   "outputs": [
    {
     "data": {
      "text/plain": [
       "DateTime\n",
       "2018-05-22    58.000000\n",
       "2018-05-23    55.000000\n",
       "2018-05-24    47.958333\n",
       "2018-05-25    65.125000\n",
       "2018-05-26    72.750000\n",
       "                ...    \n",
       "2023-05-06    48.500000\n",
       "2023-05-07    41.375000\n",
       "2023-05-08    44.521739\n",
       "2023-05-09    29.083333\n",
       "2023-05-10    49.000000\n",
       "Name: AQI, Length: 1815, dtype: float64"
      ]
     },
     "execution_count": 16,
     "metadata": {},
     "output_type": "execute_result"
    }
   ],
   "source": [
    "series = data['AQI'].squeeze()\n",
    "series"
   ]
  },
  {
   "cell_type": "markdown",
   "id": "42235f78",
   "metadata": {},
   "source": [
    "## All train data taken into account, prediction of test data"
   ]
  },
  {
   "cell_type": "code",
   "execution_count": 17,
   "id": "f634d0e4",
   "metadata": {},
   "outputs": [],
   "source": [
    "X = series\n",
    "size = int(len(X)* 0.8)\n",
    "train, test = X[0:size], X[size:len(X)]\n",
    "history = [x for x in train]\n",
    "predictions = list()"
   ]
  },
  {
   "cell_type": "code",
   "execution_count": 18,
   "id": "362b8945",
   "metadata": {},
   "outputs": [
    {
     "name": "stdout",
     "output_type": "stream",
     "text": [
      "predicted=58.334163, expected=61.250000\n",
      "predicted=63.390152, expected=61.791667\n",
      "predicted=62.732855, expected=54.958333\n",
      "predicted=57.609740, expected=51.250000\n",
      "predicted=56.001852, expected=51.500000\n",
      "predicted=56.589396, expected=52.083333\n",
      "predicted=56.678544, expected=34.500000\n",
      "predicted=43.088798, expected=46.250000\n",
      "predicted=54.478182, expected=57.041667\n",
      "predicted=59.865168, expected=54.416667\n",
      "predicted=55.895722, expected=60.791667\n",
      "predicted=61.280195, expected=56.291667\n",
      "predicted=56.942244, expected=59.291667\n",
      "predicted=60.203794, expected=58.826087\n",
      "predicted=59.461366, expected=76.250000\n",
      "predicted=72.840387, expected=56.083333\n",
      "predicted=55.087653, expected=37.333333\n",
      "predicted=44.965871, expected=55.500000\n",
      "predicted=61.482748, expected=48.416667\n",
      "predicted=52.463105, expected=58.541667\n",
      "predicted=61.191631, expected=64.041667\n",
      "predicted=63.462538, expected=68.958333\n",
      "predicted=66.466332, expected=72.333333\n",
      "predicted=68.606357, expected=66.416667\n",
      "predicted=64.149783, expected=60.500000\n",
      "predicted=61.216269, expected=63.916667\n",
      "predicted=64.989559, expected=54.958333\n",
      "predicted=57.714559, expected=28.958333\n",
      "predicted=39.683713, expected=47.304348\n",
      "predicted=57.308088, expected=49.583333\n",
      "predicted=54.877756, expected=66.041667\n",
      "predicted=66.542901, expected=62.833333\n",
      "predicted=61.328518, expected=48.708333\n",
      "predicted=51.675540, expected=53.041667\n",
      "predicted=57.422100, expected=52.791667\n",
      "predicted=56.229266, expected=59.208333\n",
      "predicted=60.981005, expected=46.208333\n",
      "predicted=50.088825, expected=45.083333\n",
      "predicted=51.437181, expected=44.750000\n",
      "predicted=50.974508, expected=59.958333\n",
      "predicted=62.086170, expected=76.958333\n",
      "predicted=72.156155, expected=65.666667\n",
      "predicted=61.320344, expected=61.625000\n",
      "predicted=61.013577, expected=67.958333\n",
      "predicted=66.798022, expected=43.041667\n",
      "predicted=47.235192, expected=56.958333\n",
      "predicted=62.003409, expected=76.695652\n",
      "predicted=74.022449, expected=63.250000\n",
      "predicted=60.818452, expected=67.166667\n",
      "predicted=66.662958, expected=63.833333\n",
      "predicted=63.694587, expected=67.666667\n",
      "predicted=67.388179, expected=63.250000\n",
      "predicted=63.586545, expected=79.583333\n",
      "predicted=76.820553, expected=77.833333\n",
      "predicted=73.003332, expected=57.166667\n",
      "predicted=58.441079, expected=44.083333\n",
      "predicted=52.372382, expected=49.291667\n",
      "predicted=57.965693, expected=33.041667\n",
      "predicted=44.068940, expected=33.500000\n",
      "predicted=46.409876, expected=21.666667\n",
      "predicted=36.294815, expected=33.958333\n",
      "predicted=46.414184, expected=36.791667\n",
      "predicted=45.297741, expected=46.833333\n",
      "predicted=51.748528, expected=59.652174\n",
      "predicted=59.368840, expected=55.583333\n",
      "predicted=54.306778, expected=56.416667\n",
      "predicted=56.090149, expected=37.416667\n",
      "predicted=41.948985, expected=56.041667\n",
      "predicted=59.208063, expected=62.833333\n",
      "predicted=60.900650, expected=56.583333\n",
      "predicted=55.443346, expected=64.916667\n",
      "predicted=63.225125, expected=70.333333\n",
      "predicted=66.224365, expected=69.458333\n",
      "predicted=65.255480, expected=67.375000\n",
      "predicted=64.507415, expected=69.041667\n",
      "predicted=66.649203, expected=61.083333\n",
      "predicted=60.809565, expected=52.166667\n",
      "predicted=55.759921, expected=62.086957\n",
      "predicted=64.660317, expected=88.500000\n",
      "predicted=82.674882, expected=41.416667\n",
      "predicted=43.278497, expected=47.916667\n",
      "predicted=56.655366, expected=55.375000\n",
      "predicted=60.369974, expected=56.833333\n",
      "predicted=59.802210, expected=70.333333\n",
      "predicted=69.583292, expected=66.391304\n",
      "predicted=64.463132, expected=55.708333\n",
      "predicted=57.535886, expected=48.666667\n",
      "predicted=54.169661, expected=58.666667\n",
      "predicted=62.581247, expected=45.333333\n",
      "predicted=50.547047, expected=65.333333\n",
      "predicted=67.649876, expected=48.708333\n",
      "predicted=51.521841, expected=53.791667\n",
      "predicted=58.253187, expected=57.000000\n",
      "predicted=59.500492, expected=64.333333\n",
      "predicted=64.389806, expected=51.750000\n",
      "predicted=53.822630, expected=51.625000\n",
      "predicted=55.990737, expected=56.666667\n",
      "predicted=59.563460, expected=58.583333\n",
      "predicted=60.013048, expected=68.583333\n",
      "predicted=67.250411, expected=73.333333\n",
      "predicted=69.368754, expected=35.875000\n",
      "predicted=40.981376, expected=24.500000\n",
      "predicted=38.846326, expected=43.208333\n",
      "predicted=53.693728, expected=58.916667\n",
      "predicted=61.278547, expected=59.125000\n",
      "predicted=58.602328, expected=72.625000\n",
      "predicted=69.008858, expected=61.375000\n",
      "predicted=58.725256, expected=51.708333\n",
      "predicted=53.984769, expected=51.291667\n",
      "predicted=55.396262, expected=46.125000\n",
      "predicted=51.381137, expected=48.958333\n",
      "predicted=54.122227, expected=54.086957\n",
      "predicted=57.161017, expected=28.041667\n",
      "predicted=36.576413, expected=56.000000\n",
      "predicted=61.640828, expected=58.250000\n",
      "predicted=57.960697, expected=77.333333\n",
      "predicted=72.174086, expected=76.458333\n",
      "predicted=68.853076, expected=58.875000\n",
      "predicted=56.805371, expected=48.208333\n",
      "predicted=52.377484, expected=40.458333\n",
      "predicted=48.248871, expected=44.208333\n",
      "predicted=51.866882, expected=40.333333\n",
      "predicted=47.713048, expected=51.125000\n",
      "predicted=55.991083, expected=43.416667\n",
      "predicted=47.995096, expected=49.500000\n",
      "predicted=53.728628, expected=46.958333\n",
      "predicted=50.538589, expected=34.416667\n",
      "predicted=41.455886, expected=34.250000\n",
      "predicted=43.120769, expected=26.583333\n",
      "predicted=36.741135, expected=41.400000\n",
      "predicted=48.494681, expected=53.250000\n",
      "predicted=54.300753, expected=50.666667\n",
      "predicted=50.417266, expected=63.208333\n",
      "predicted=60.630899, expected=62.416667\n",
      "predicted=58.330503, expected=64.708333\n",
      "predicted=60.889724, expected=51.375000\n",
      "predicted=51.105801, expected=80.875000\n",
      "predicted=75.948002, expected=51.750000\n",
      "predicted=49.514508, expected=39.375000\n",
      "predicted=45.895886, expected=30.541667\n",
      "predicted=41.029235, expected=33.666667\n",
      "predicted=44.114615, expected=35.958333\n",
      "predicted=44.450785, expected=38.166667\n",
      "predicted=45.090925, expected=50.458333\n",
      "predicted=53.495349, expected=57.217391\n",
      "predicted=56.339143, expected=58.125000\n",
      "predicted=56.176739, expected=69.000000\n",
      "predicted=64.655638, expected=88.250000\n",
      "predicted=77.878007, expected=93.500000\n",
      "predicted=79.679035, expected=103.791667\n",
      "predicted=88.114127, expected=119.625000\n",
      "predicted=99.987516, expected=131.416667\n",
      "predicted=108.221812, expected=119.458333\n",
      "predicted=99.594956, expected=113.000000\n",
      "predicted=98.976349, expected=90.826087\n",
      "predicted=84.849986, expected=84.291667\n",
      "predicted=84.471816, expected=84.875000\n",
      "predicted=86.017991, expected=85.916667\n",
      "predicted=86.537441, expected=79.833333\n",
      "predicted=81.665964, expected=90.833333\n",
      "predicted=90.813350, expected=74.500000\n",
      "predicted=76.512376, expected=100.500000\n",
      "predicted=98.769025, expected=95.791667\n",
      "predicted=90.730755, expected=80.125000\n",
      "predicted=80.267314, expected=101.791667\n",
      "predicted=99.314450, expected=112.458333\n",
      "predicted=103.687547, expected=108.083333\n",
      "predicted=99.341684, expected=101.791667\n",
      "predicted=96.219668, expected=99.391304\n",
      "predicted=96.026070, expected=101.916667\n",
      "predicted=98.607613, expected=113.000000\n",
      "predicted=106.742341, expected=120.333333\n",
      "predicted=110.821902, expected=127.125000\n",
      "predicted=115.489038, expected=127.000000\n",
      "predicted=115.246122, expected=133.000000\n",
      "predicted=120.847441, expected=100.208333\n",
      "predicted=96.138597, expected=53.541667\n",
      "predicted=67.037303, expected=61.875000\n",
      "predicted=80.087474, expected=106.043478\n",
      "predicted=109.868900, expected=64.421053\n",
      "predicted=70.073956, expected=167.416667\n",
      "predicted=154.121311, expected=166.500000\n",
      "predicted=136.463797, expected=123.208333\n",
      "predicted=107.019922, expected=109.625000\n",
      "predicted=105.981143, expected=106.125000\n",
      "predicted=105.911827, expected=168.750000\n",
      "predicted=153.386481, expected=144.625000\n",
      "predicted=125.467070, expected=117.833333\n",
      "predicted=111.359926, expected=101.250000\n",
      "predicted=104.045266, expected=62.041667\n",
      "predicted=76.931693, expected=112.083333\n",
      "predicted=119.699455, expected=62.708333\n",
      "predicted=72.768169, expected=67.166667\n",
      "predicted=83.541951, expected=61.750000\n",
      "predicted=76.822195, expected=44.833333\n",
      "predicted=63.381903, expected=106.458333\n",
      "predicted=110.556269, expected=167.083333\n",
      "predicted=144.769900, expected=173.083333\n",
      "predicted=140.809556, expected=187.916667\n",
      "predicted=154.179829, expected=112.869565\n",
      "predicted=98.264147, expected=161.291667\n",
      "predicted=149.007188, expected=156.500000\n",
      "predicted=137.977519, expected=115.125000\n",
      "predicted=109.330343, expected=130.916667\n"
     ]
    },
    {
     "name": "stdout",
     "output_type": "stream",
     "text": [
      "predicted=128.631472, expected=184.500000\n",
      "predicted=166.027445, expected=101.791667\n",
      "predicted=96.268665, expected=132.291667\n",
      "predicted=133.561485, expected=106.458333\n",
      "predicted=108.533868, expected=152.833333\n",
      "predicted=147.005608, expected=125.208333\n",
      "predicted=118.737111, expected=96.875000\n",
      "predicted=102.616690, expected=53.833333\n",
      "predicted=74.381160, expected=56.208333\n",
      "predicted=81.094627, expected=84.916667\n",
      "predicted=99.382031, expected=139.833333\n",
      "predicted=133.864408, expected=181.916667\n",
      "predicted=156.357747, expected=205.478261\n",
      "predicted=169.215306, expected=53.041667\n",
      "predicted=54.256860, expected=64.666667\n",
      "predicted=89.109261, expected=101.000000\n",
      "predicted=111.464399, expected=114.000000\n",
      "predicted=113.535390, expected=181.708333\n",
      "predicted=161.624964, expected=202.708333\n",
      "predicted=167.342256, expected=229.375000\n",
      "predicted=187.101532, expected=260.958333\n",
      "predicted=210.390061, expected=210.875000\n",
      "predicted=171.899773, expected=164.541667\n",
      "predicted=149.079259, expected=155.833333\n",
      "predicted=151.567536, expected=109.291667\n",
      "predicted=117.810628, expected=89.416667\n",
      "predicted=109.416561, expected=166.916667\n",
      "predicted=168.831846, expected=183.565217\n",
      "predicted=167.242078, expected=173.791667\n",
      "predicted=158.148839, expected=187.750000\n",
      "predicted=171.452524, expected=211.666667\n",
      "predicted=188.200910, expected=219.500000\n",
      "predicted=191.825586, expected=219.083333\n",
      "predicted=192.441331, expected=187.708333\n",
      "predicted=170.927937, expected=214.666667\n",
      "predicted=197.883309, expected=216.416667\n",
      "predicted=195.641625, expected=212.416667\n",
      "predicted=193.826816, expected=35.250000\n",
      "predicted=61.771051, expected=44.291667\n",
      "predicted=96.000945, expected=56.750000\n",
      "predicted=97.711197, expected=152.095238\n",
      "predicted=163.308599, expected=110.791667\n",
      "predicted=113.940300, expected=168.958333\n",
      "predicted=164.161964, expected=143.750000\n",
      "predicted=135.324501, expected=101.083333\n",
      "predicted=107.901654, expected=34.541667\n",
      "predicted=63.898194, expected=16.608696\n",
      "predicted=58.377921, expected=50.458333\n",
      "predicted=82.521718, expected=68.333333\n",
      "predicted=86.652983, expected=72.666667\n",
      "predicted=84.767946, expected=134.541667\n",
      "predicted=129.623418, expected=180.125000\n",
      "predicted=154.000072, expected=214.541667\n",
      "predicted=174.943500, expected=138.708333\n",
      "predicted=114.984407, expected=97.250000\n",
      "predicted=98.719537, expected=67.625000\n",
      "predicted=83.081080, expected=96.958333\n",
      "predicted=108.720116, expected=105.666667\n",
      "predicted=108.825948, expected=127.782609\n",
      "predicted=123.541030, expected=167.791667\n",
      "predicted=150.202601, expected=143.958333\n",
      "predicted=126.628801, expected=149.541667\n",
      "predicted=136.448380, expected=84.041667\n",
      "predicted=86.878816, expected=89.666667\n",
      "predicted=102.011134, expected=34.583333\n",
      "predicted=57.881122, expected=49.791667\n",
      "predicted=76.490903, expected=66.208333\n",
      "predicted=83.558499, expected=109.333333\n",
      "predicted=111.616347, expected=85.208333\n",
      "predicted=85.548613, expected=130.291667\n",
      "predicted=123.724679, expected=146.541667\n",
      "predicted=128.794228, expected=201.875000\n",
      "predicted=169.554327, expected=193.708333\n",
      "predicted=156.803675, expected=182.130435\n",
      "predicted=152.700445, expected=97.478261\n",
      "predicted=92.865387, expected=151.347826\n",
      "predicted=148.273635, expected=125.583333\n",
      "predicted=119.639798, expected=135.958333\n",
      "predicted=132.086475, expected=89.916667\n",
      "predicted=95.603558, expected=91.833333\n",
      "predicted=103.982141, expected=82.916667\n",
      "predicted=95.523403, expected=90.250000\n",
      "predicted=101.160113, expected=97.583333\n",
      "predicted=104.245701, expected=74.304348\n",
      "predicted=84.614368, expected=37.416667\n",
      "predicted=59.484773, expected=36.250000\n",
      "predicted=62.589034, expected=103.708333\n",
      "predicted=111.346058, expected=111.750000\n",
      "predicted=105.274842, expected=152.958333\n",
      "predicted=135.677065, expected=173.000000\n",
      "predicted=145.467653, expected=176.250000\n",
      "predicted=146.997530, expected=165.041667\n",
      "predicted=140.460543, expected=136.625000\n",
      "predicted=122.791850, expected=110.391304\n",
      "predicted=108.663552, expected=48.000000\n",
      "predicted=65.628528, expected=50.041667\n",
      "predicted=75.840412, expected=25.181818\n",
      "predicted=54.039735, expected=80.791667\n",
      "predicted=97.757966, expected=47.166667\n",
      "predicted=61.359665, expected=52.833333\n",
      "predicted=69.885536, expected=68.791667\n",
      "predicted=79.500774, expected=68.937500\n",
      "predicted=75.997424, expected=27.739130\n",
      "predicted=44.056731, expected=57.541667\n",
      "predicted=72.055712, expected=80.913043\n",
      "predicted=83.611417, expected=85.541667\n",
      "predicted=83.080445, expected=68.791667\n",
      "predicted=69.882725, expected=81.150000\n",
      "predicted=81.996831, expected=90.166667\n",
      "predicted=86.776743, expected=72.666667\n",
      "predicted=72.375251, expected=67.583333\n",
      "predicted=71.496509, expected=51.291667\n",
      "predicted=59.692844, expected=49.041667\n",
      "predicted=59.999033, expected=38.000000\n",
      "predicted=51.094274, expected=22.708333\n",
      "predicted=40.235506, expected=27.375000\n",
      "predicted=44.853136, expected=67.833333\n",
      "predicted=73.380573, expected=49.041667\n",
      "predicted=52.078098, expected=37.416667\n",
      "predicted=46.265937, expected=34.125000\n",
      "predicted=45.075159, expected=58.000000\n",
      "predicted=62.949482, expected=50.217391\n",
      "predicted=52.842190, expected=52.583333\n",
      "predicted=55.902326, expected=73.958333\n",
      "predicted=71.642317, expected=73.000000\n",
      "predicted=67.791572, expected=94.000000\n",
      "predicted=84.556928, expected=70.250000\n",
      "predicted=64.094788, expected=77.458333\n",
      "predicted=74.208815, expected=84.250000\n",
      "predicted=78.610821, expected=118.708333\n",
      "predicted=104.272647, expected=54.625000\n",
      "predicted=51.430574, expected=51.750000\n",
      "predicted=60.205182, expected=20.450000\n",
      "predicted=36.299236, expected=34.375000\n",
      "predicted=50.700420, expected=33.750000\n",
      "predicted=46.616735, expected=68.875000\n",
      "predicted=72.353308, expected=69.750000\n",
      "predicted=67.114028, expected=65.478261\n",
      "predicted=64.148667, expected=51.333333\n",
      "predicted=54.425572, expected=54.750000\n",
      "predicted=59.231935, expected=60.791667\n",
      "predicted=63.018526, expected=50.416667\n",
      "predicted=54.141812, expected=38.500000\n",
      "predicted=46.662326, expected=34.083333\n",
      "predicted=44.725532, expected=36.000000\n",
      "predicted=46.144435, expected=39.625000\n",
      "predicted=47.875200, expected=48.208333\n",
      "predicted=53.267455, expected=49.208333\n",
      "predicted=52.387613, expected=54.375000\n",
      "predicted=56.084411, expected=41.833333\n",
      "predicted=45.805805, expected=38.000000\n",
      "predicted=44.838308, expected=57.166667\n",
      "predicted=59.615597, expected=66.916667\n",
      "predicted=63.872532, expected=61.583333\n",
      "predicted=58.733593, expected=48.500000\n",
      "predicted=50.173375, expected=41.375000\n",
      "predicted=46.994047, expected=44.521739\n",
      "predicted=50.267282, expected=29.083333\n",
      "predicted=37.753327, expected=49.000000\n"
     ]
    }
   ],
   "source": [
    "# walk-forward validation\n",
    "for t in range(len(test)):\n",
    " model = ARIMA(history, order=(3,0,1))\n",
    " model_fit = model.fit()\n",
    " output = model_fit.forecast()\n",
    " yhat = output[0]\n",
    " predictions.append(yhat)\n",
    " obs = test[t]\n",
    " history.append(obs)\n",
    " print('predicted=%f, expected=%f' % (yhat, obs))"
   ]
  },
  {
   "cell_type": "code",
   "execution_count": 33,
   "id": "999f27bd",
   "metadata": {},
   "outputs": [
    {
     "data": {
      "text/plain": [
       "array([37.753327])"
      ]
     },
     "execution_count": 33,
     "metadata": {},
     "output_type": "execute_result"
    }
   ],
   "source": [
    "one_day_forecast = model_fit.forecast(steps=1)\n",
    "one_day_forecast"
   ]
  },
  {
   "cell_type": "code",
   "execution_count": 34,
   "id": "e36262c8",
   "metadata": {},
   "outputs": [],
   "source": [
    "# Example: Forecast 7 days ahead\n",
    "seven_days_forecast = model_fit.forecast(steps=7)\n",
    "\n",
    "# Example: Forecast 2 weeks (14 days) ahead\n",
    "two_weeks_forecast = model_fit.forecast(steps=14)\n",
    "\n",
    "# Example: Forecast 4 weeks (28 days) ahead\n",
    "four_weeks_forecast = model_fit.forecast(steps=28)"
   ]
  },
  {
   "cell_type": "code",
   "execution_count": 35,
   "id": "6e2b29dc",
   "metadata": {},
   "outputs": [
    {
     "data": {
      "text/plain": [
       "array([37.753327  , 46.32161892, 50.86415503, 52.7401343 , 53.49767573,\n",
       "       53.94416208, 54.36305511])"
      ]
     },
     "execution_count": 35,
     "metadata": {},
     "output_type": "execute_result"
    }
   ],
   "source": [
    "seven_days_forecast"
   ]
  },
  {
   "cell_type": "code",
   "execution_count": 28,
   "id": "a27785ce",
   "metadata": {},
   "outputs": [
    {
     "data": {
      "text/plain": [
       "[58.33416253308731,\n",
       " 63.39015163534995,\n",
       " 62.732855250265885,\n",
       " 57.609740264046984,\n",
       " 56.00185206919271,\n",
       " 56.58939569891004,\n",
       " 56.67854356559409,\n",
       " 43.08879763393358,\n",
       " 54.47818157654866,\n",
       " 59.86516751180843,\n",
       " 55.89572160695401,\n",
       " 61.28019509071112,\n",
       " 56.942243629854204,\n",
       " 60.20379388895267,\n",
       " 59.461365813898055,\n",
       " 72.84038685709291,\n",
       " 55.087652577565805,\n",
       " 44.96587072932901,\n",
       " 61.48274813460977,\n",
       " 52.46310494261566,\n",
       " 61.19163130215823,\n",
       " 63.462537630351186,\n",
       " 66.4663321893166,\n",
       " 68.606356905654,\n",
       " 64.14978274405351,\n",
       " 61.216269158463575,\n",
       " 64.98955918171336,\n",
       " 57.714558807896644,\n",
       " 39.683713039770126,\n",
       " 57.30808820280517,\n",
       " 54.87775554196628,\n",
       " 66.54290122100139,\n",
       " 61.328517759840615,\n",
       " 51.675540416198864,\n",
       " 57.42209956773226,\n",
       " 56.22926557095133,\n",
       " 60.98100530915589,\n",
       " 50.088824943245925,\n",
       " 51.43718124901099,\n",
       " 50.974508230038296,\n",
       " 62.08616960715572,\n",
       " 72.15615524561821,\n",
       " 61.3203439810868,\n",
       " 61.013576503012146,\n",
       " 66.79802248300759,\n",
       " 47.23519237542028,\n",
       " 62.00340907346177,\n",
       " 74.02244871820912,\n",
       " 60.81845217182777,\n",
       " 66.66295781105995,\n",
       " 63.69458656552037,\n",
       " 67.3881794938026,\n",
       " 63.58654471262002,\n",
       " 76.8205527950929,\n",
       " 73.00333185059866,\n",
       " 58.44107878723415,\n",
       " 52.37238168649881,\n",
       " 57.9656925016545,\n",
       " 44.068940430634726,\n",
       " 46.40987580406638,\n",
       " 36.29481506512501,\n",
       " 46.414183976860706,\n",
       " 45.297740654322126,\n",
       " 51.74852847319926,\n",
       " 59.368840311065696,\n",
       " 54.30677819888652,\n",
       " 56.090148596300835,\n",
       " 41.948984737268276,\n",
       " 59.20806308460947,\n",
       " 60.900650051043044,\n",
       " 55.44334597674238,\n",
       " 63.2251245969124,\n",
       " 66.22436510145558,\n",
       " 65.25548001716388,\n",
       " 64.50741507019784,\n",
       " 66.64920273167789,\n",
       " 60.80956450238783,\n",
       " 55.75992081648037,\n",
       " 64.66031744386544,\n",
       " 82.67488153880731,\n",
       " 43.278497050864864,\n",
       " 56.655365994487646,\n",
       " 60.36997438307024,\n",
       " 59.80221040264914,\n",
       " 69.58329224232226,\n",
       " 64.46313205821346,\n",
       " 57.535885555071985,\n",
       " 54.16966102546992,\n",
       " 62.58124723677247,\n",
       " 50.547047158731324,\n",
       " 67.64987648106435,\n",
       " 51.52184094237115,\n",
       " 58.25318667615167,\n",
       " 59.500492362077665,\n",
       " 64.38980610123879,\n",
       " 53.822630498681875,\n",
       " 55.990737294043896,\n",
       " 59.563459785741784,\n",
       " 60.01304830985538,\n",
       " 67.25041078550234,\n",
       " 69.36875439159198,\n",
       " 40.981376117035545,\n",
       " 38.846325734096,\n",
       " 53.6937277420749,\n",
       " 61.27854694707382,\n",
       " 58.6023275253332,\n",
       " 69.00885797414965,\n",
       " 58.72525584113819,\n",
       " 53.98476912586399,\n",
       " 55.396262194097815,\n",
       " 51.381136943829,\n",
       " 54.1222271882726,\n",
       " 57.161016846910755,\n",
       " 36.5764133088464,\n",
       " 61.64082813380841,\n",
       " 57.96069679706684,\n",
       " 72.17408601339267,\n",
       " 68.85307631740767,\n",
       " 56.80537134703435,\n",
       " 52.37748357708304,\n",
       " 48.2488714154773,\n",
       " 51.86688227921187,\n",
       " 47.71304823551017,\n",
       " 55.99108341301775,\n",
       " 47.99509585595289,\n",
       " 53.728628379542315,\n",
       " 50.53858899489887,\n",
       " 41.45588625881768,\n",
       " 43.12076889575206,\n",
       " 36.741134549516275,\n",
       " 48.49468063999243,\n",
       " 54.30075298481708,\n",
       " 50.41726576968644,\n",
       " 60.63089913185533,\n",
       " 58.330502882206765,\n",
       " 60.88972384917457,\n",
       " 51.10580096051851,\n",
       " 75.94800194114896,\n",
       " 49.51450785089335,\n",
       " 45.89588634064102,\n",
       " 41.02923479536866,\n",
       " 44.114614796190104,\n",
       " 44.45078506824284,\n",
       " 45.09092516724904,\n",
       " 53.495348895357864,\n",
       " 56.339143152885796,\n",
       " 56.17673911422494,\n",
       " 64.65563828551264,\n",
       " 77.87800748215528,\n",
       " 79.67903515779433,\n",
       " 88.11412730130682,\n",
       " 99.98751600281264,\n",
       " 108.22181172125869,\n",
       " 99.59495581510964,\n",
       " 98.97634899125762,\n",
       " 84.84998601978992,\n",
       " 84.47181596411558,\n",
       " 86.01799103236013,\n",
       " 86.53744085266004,\n",
       " 81.66596359707164,\n",
       " 90.81335021292607,\n",
       " 76.51237578305525,\n",
       " 98.76902541238964,\n",
       " 90.73075499089114,\n",
       " 80.2673142154638,\n",
       " 99.31444960182446,\n",
       " 103.68754664247251,\n",
       " 99.34168396606337,\n",
       " 96.21966767660308,\n",
       " 96.02606979667108,\n",
       " 98.60761305278581,\n",
       " 106.74234059205398,\n",
       " 110.82190213578085,\n",
       " 115.48903779312536,\n",
       " 115.24612154851293,\n",
       " 120.847441272444,\n",
       " 96.1385965342499,\n",
       " 67.03730316168881,\n",
       " 80.0874740634409,\n",
       " 109.86889969696908,\n",
       " 70.07395600723747,\n",
       " 154.12131065562448,\n",
       " 136.46379655695767,\n",
       " 107.01992228733451,\n",
       " 105.98114311767782,\n",
       " 105.91182704405432,\n",
       " 153.38648123603247,\n",
       " 125.46706964276886,\n",
       " 111.3599255658048,\n",
       " 104.0452664844774,\n",
       " 76.93169314662123,\n",
       " 119.69945544507257,\n",
       " 72.7681688297446,\n",
       " 83.54195094245118,\n",
       " 76.82219496148392,\n",
       " 63.38190251602724,\n",
       " 110.55626856959572,\n",
       " 144.7699003864264,\n",
       " 140.80955553802974,\n",
       " 154.17982882881563,\n",
       " 98.26414674904129,\n",
       " 149.00718791754383,\n",
       " 137.97751851689864,\n",
       " 109.33034254555294,\n",
       " 128.63147185874652,\n",
       " 166.02744467270696,\n",
       " 96.26866508178027,\n",
       " 133.5614849489185,\n",
       " 108.53386827183152,\n",
       " 147.00560847932957,\n",
       " 118.73711145296738,\n",
       " 102.61669005200795,\n",
       " 74.38115951267545,\n",
       " 81.09462672798273,\n",
       " 99.38203115260846,\n",
       " 133.86440837074693,\n",
       " 156.35774650635202,\n",
       " 169.21530590963044,\n",
       " 54.25685993517473,\n",
       " 89.10926090397646,\n",
       " 111.46439915476117,\n",
       " 113.5353895100592,\n",
       " 161.6249638420981,\n",
       " 167.3422558577949,\n",
       " 187.10153152967234,\n",
       " 210.39006122603243,\n",
       " 171.8997732808014,\n",
       " 149.07925907221392,\n",
       " 151.5675359519273,\n",
       " 117.8106280344404,\n",
       " 109.41656142880021,\n",
       " 168.83184631190142,\n",
       " 167.24207764563042,\n",
       " 158.1488386661474,\n",
       " 171.45252357597806,\n",
       " 188.20090996836362,\n",
       " 191.82558609231415,\n",
       " 192.44133107680284,\n",
       " 170.92793673849008,\n",
       " 197.88330880924858,\n",
       " 195.64162483569066,\n",
       " 193.82681604362529,\n",
       " 61.77105126104519,\n",
       " 96.00094486467883,\n",
       " 97.71119743815129,\n",
       " 163.30859915273257,\n",
       " 113.94030043780751,\n",
       " 164.16196440800988,\n",
       " 135.3245014895906,\n",
       " 107.90165415612239,\n",
       " 63.89819382475163,\n",
       " 58.37792144484948,\n",
       " 82.52171773352859,\n",
       " 86.65298303832394,\n",
       " 84.76794575385438,\n",
       " 129.62341797923426,\n",
       " 154.00007167399858,\n",
       " 174.94350037079494,\n",
       " 114.98440721372694,\n",
       " 98.71953702489881,\n",
       " 83.08107964789446,\n",
       " 108.72011555942971,\n",
       " 108.82594841504684,\n",
       " 123.54102970235779,\n",
       " 150.2026013768778,\n",
       " 126.628801272106,\n",
       " 136.4483797720902,\n",
       " 86.87881605672901,\n",
       " 102.01113388548677,\n",
       " 57.88112228484752,\n",
       " 76.49090313319942,\n",
       " 83.55849940026316,\n",
       " 111.61634651833684,\n",
       " 85.5486133637915,\n",
       " 123.72467936259011,\n",
       " 128.79422816663742,\n",
       " 169.55432742192772,\n",
       " 156.80367544481774,\n",
       " 152.7004450883111,\n",
       " 92.8653869527353,\n",
       " 148.2736349193089,\n",
       " 119.63979804964424,\n",
       " 132.08647530150563,\n",
       " 95.60355833941396,\n",
       " 103.98214145607952,\n",
       " 95.52340278970254,\n",
       " 101.16011311288949,\n",
       " 104.24570096303057,\n",
       " 84.61436841576707,\n",
       " 59.48477327668745,\n",
       " 62.58903392055069,\n",
       " 111.34605847941904,\n",
       " 105.27484234846868,\n",
       " 135.67706503028174,\n",
       " 145.46765307560847,\n",
       " 146.99752999488385,\n",
       " 140.46054263719157,\n",
       " 122.79185016684298,\n",
       " 108.66355245340968,\n",
       " 65.628528166101,\n",
       " 75.84041194777686,\n",
       " 54.03973506346675,\n",
       " 97.75796550619489,\n",
       " 61.35966520133919,\n",
       " 69.88553616417748,\n",
       " 79.50077373853459,\n",
       " 75.99742429238144,\n",
       " 44.056730827654306,\n",
       " 72.05571201367094,\n",
       " 83.61141724621879,\n",
       " 83.08044517906957,\n",
       " 69.88272539879863,\n",
       " 81.99683134695589,\n",
       " 86.77674341003566,\n",
       " 72.37525136035337,\n",
       " 71.49650883190044,\n",
       " 59.69284416612706,\n",
       " 59.99903339888839,\n",
       " 51.094273965941305,\n",
       " 40.235506107659425,\n",
       " 44.85313622447844,\n",
       " 73.38057293223639,\n",
       " 52.078098247333,\n",
       " 46.26593699536698,\n",
       " 45.07515901749475,\n",
       " 62.94948198847578,\n",
       " 52.84218999032264,\n",
       " 55.90232597736157,\n",
       " 71.64231652886954,\n",
       " 67.7915717655795,\n",
       " 84.55692832272564,\n",
       " 64.09478779592418,\n",
       " 74.20881491458044,\n",
       " 78.61082071040039,\n",
       " 104.27264661326438,\n",
       " 51.430573779873164,\n",
       " 60.20518195354053,\n",
       " 36.29923580877576,\n",
       " 50.700420054371726,\n",
       " 46.61673483433011,\n",
       " 72.35330750625914,\n",
       " 67.11402831560994,\n",
       " 64.1486667907078,\n",
       " 54.425572174325204,\n",
       " 59.231934784750564,\n",
       " 63.01852604479507,\n",
       " 54.1418123845306,\n",
       " 46.662325863348,\n",
       " 44.72553213434235,\n",
       " 46.144435354808316,\n",
       " 47.87519990763044,\n",
       " 53.267454631326075,\n",
       " 52.38761289617511,\n",
       " 56.08441136148968,\n",
       " 45.805804841482555,\n",
       " 44.838308455162256,\n",
       " 59.61559749528547,\n",
       " 63.872532127247176,\n",
       " 58.73359264219455,\n",
       " 50.17337532551585,\n",
       " 46.994046787773236,\n",
       " 50.26728187864188,\n",
       " 37.75332700322899]"
      ]
     },
     "execution_count": 28,
     "metadata": {},
     "output_type": "execute_result"
    }
   ],
   "source": [
    "predictions"
   ]
  },
  {
   "cell_type": "code",
   "execution_count": 32,
   "id": "48a69c05",
   "metadata": {},
   "outputs": [
    {
     "name": "stdout",
     "output_type": "stream",
     "text": [
      "Test RMSE: 26.556\n",
      "Test MAE: 18.169\n",
      "SMAPE: 22.23\n"
     ]
    },
    {
     "data": {
      "image/png": "[encoded data removed]",
      "text/plain": [
       "<Figure size 640x480 with 1 Axes>"
      ]
     },
     "metadata": {},
     "output_type": "display_data"
    }
   ],
   "source": [
    "# evaluate forecasts\n",
    "from math import sqrt\n",
    "\n",
    "rmse = sqrt(mean_squared_error(test, predictions))\n",
    "print('Test RMSE: %.3f' % rmse)\n",
    "print('Test MAE: %.3f' % mean_absolute_error(test, predictions))\n",
    "\n",
    "def smape(actual, predicted):\n",
    "    return 100 * np.mean(2 * np.abs(predicted - actual) / (np.abs(actual) + np.abs(predicted)))\n",
    "\n",
    "smape_value = smape(test, predictions)\n",
    "print(f'SMAPE: {smape_value:.2f}')\n",
    "\n",
    "# Plot the actual vs. predicted values\n",
    "plt.plot(test.index, test, label='Actual')\n",
    "plt.plot(test.index, predictions, label='Predicted')\n",
    "plt.legend()\n",
    "plt.show()"
   ]
  },
  {
   "cell_type": "markdown",
   "id": "c05bfaff",
   "metadata": {},
   "source": [
    "## All train data taken into account, prediction of 1 day (the last day in dataset)"
   ]
  },
  {
   "cell_type": "code",
   "execution_count": 85,
   "id": "e63421de",
   "metadata": {},
   "outputs": [],
   "source": [
    "trainAll1, testAll1 = X[0:len(X)-1], X[len(X)-1:len(X)]\n",
    "history = [x for x in trainAll1]\n",
    "predictions = list()"
   ]
  },
  {
   "cell_type": "code",
   "execution_count": 86,
   "id": "de3af779",
   "metadata": {},
   "outputs": [
    {
     "name": "stdout",
     "output_type": "stream",
     "text": [
      "predicted=37.753327, expected=49.000000\n"
     ]
    }
   ],
   "source": [
    "# walk-forward validation\n",
    "for t in range(len(testAll1)):\n",
    " model = ARIMA(history, order=(3,0,1))\n",
    " model_fit = model.fit()\n",
    " output = model_fit.forecast()\n",
    " yhat = output[0]\n",
    " predictions.append(yhat)\n",
    " obs = testAll1[t]\n",
    " history.append(obs)\n",
    " print('predicted=%f, expected=%f' % (yhat, obs))"
   ]
  },
  {
   "cell_type": "code",
   "execution_count": 87,
   "id": "e58655d8",
   "metadata": {},
   "outputs": [
    {
     "name": "stdout",
     "output_type": "stream",
     "text": [
      "Test RMSE: 11.247\n",
      "Test MAE: 11.247\n",
      "SMAPE: 25.93\n"
     ]
    }
   ],
   "source": [
    "rmse = sqrt(mean_squared_error(testAll1, predictions))\n",
    "print('Test RMSE: %.3f' % rmse)\n",
    "print('Test MAE: %.3f' % mean_absolute_error(testAll1, predictions))\n",
    "\n",
    "def smape(actual, predicted):\n",
    "    return 100 * np.mean(2 * np.abs(predicted - actual) / (np.abs(actual) + np.abs(predicted)))\n",
    "\n",
    "smape_value = smape(testAll1, predictions)\n",
    "print(f'SMAPE: {smape_value:.2f}')"
   ]
  },
  {
   "cell_type": "markdown",
   "id": "ac83672a",
   "metadata": {},
   "source": [
    "## All train data taken into account, prediction of last 7 days in dataset"
   ]
  },
  {
   "cell_type": "code",
   "execution_count": 82,
   "id": "05e78a6a",
   "metadata": {},
   "outputs": [],
   "source": [
    "trainAll7, testAll7 = X[0:len(X)-7], X[len(X)-7:len(X)]\n",
    "history = [x for x in trainAll7]\n",
    "predictions = list()"
   ]
  },
  {
   "cell_type": "code",
   "execution_count": 83,
   "id": "4f858d07",
   "metadata": {},
   "outputs": [
    {
     "name": "stdout",
     "output_type": "stream",
     "text": [
      "predicted=59.615597, expected=66.916667\n",
      "predicted=63.872532, expected=61.583333\n",
      "predicted=58.733593, expected=48.500000\n",
      "predicted=50.173375, expected=41.375000\n",
      "predicted=46.994047, expected=44.521739\n",
      "predicted=50.267282, expected=29.083333\n",
      "predicted=37.753327, expected=49.000000\n"
     ]
    }
   ],
   "source": [
    "# walk-forward validation\n",
    "for t in range(len(testAll7)):\n",
    " model = ARIMA(history, order=(3,0,1))\n",
    " model_fit = model.fit()\n",
    " output = model_fit.forecast()\n",
    " yhat = output[0]\n",
    " predictions.append(yhat)\n",
    " obs = testAll7[t]\n",
    " history.append(obs)\n",
    " print('predicted=%f, expected=%f' % (yhat, obs))"
   ]
  },
  {
   "cell_type": "code",
   "execution_count": 84,
   "id": "196eeffe",
   "metadata": {},
   "outputs": [
    {
     "name": "stdout",
     "output_type": "stream",
     "text": [
      "Test RMSE: 10.837\n",
      "Test MAE: 9.075\n",
      "SMAPE: 19.75\n"
     ]
    }
   ],
   "source": [
    "rmse = sqrt(mean_squared_error(testAll7, predictions))\n",
    "print('Test RMSE: %.3f' % rmse)\n",
    "print('Test MAE: %.3f' % mean_absolute_error(testAll7, predictions))\n",
    "\n",
    "def smape(actual, predicted):\n",
    "    return 100 * np.mean(2 * np.abs(predicted - actual) / (np.abs(actual) + np.abs(predicted)))\n",
    "\n",
    "smape_value = smape(testAll7, predictions)\n",
    "print(f'SMAPE: {smape_value:.2f}')"
   ]
  },
  {
   "cell_type": "markdown",
   "id": "31baf727",
   "metadata": {},
   "source": [
    "## All train data taken into account, prediction of last 2 weeks in dataset "
   ]
  },
  {
   "cell_type": "code",
   "execution_count": 79,
   "id": "c25efbd0",
   "metadata": {},
   "outputs": [],
   "source": [
    "trainAll14, testAll14 = X[0:len(X)-14], X[len(X)-14:len(X)]\n",
    "history = [x for x in trainAll14]\n",
    "predictions = list()"
   ]
  },
  {
   "cell_type": "code",
   "execution_count": 80,
   "id": "30246598",
   "metadata": {},
   "outputs": [
    {
     "name": "stdout",
     "output_type": "stream",
     "text": [
      "predicted=46.144435, expected=39.625000\n",
      "predicted=47.875200, expected=48.208333\n",
      "predicted=53.267455, expected=49.208333\n",
      "predicted=52.387613, expected=54.375000\n",
      "predicted=56.084411, expected=41.833333\n",
      "predicted=45.805805, expected=38.000000\n",
      "predicted=44.838308, expected=57.166667\n",
      "predicted=59.615597, expected=66.916667\n",
      "predicted=63.872532, expected=61.583333\n",
      "predicted=58.733593, expected=48.500000\n",
      "predicted=50.173375, expected=41.375000\n",
      "predicted=46.994047, expected=44.521739\n",
      "predicted=50.267282, expected=29.083333\n",
      "predicted=37.753327, expected=49.000000\n"
     ]
    }
   ],
   "source": [
    "# walk-forward validation\n",
    "for t in range(len(testAll14)):\n",
    " model = ARIMA(history, order=(3,0,1))\n",
    " model_fit = model.fit()\n",
    " output = model_fit.forecast()\n",
    " yhat = output[0]\n",
    " predictions.append(yhat)\n",
    " obs = testAll14[t]\n",
    " history.append(obs)\n",
    " print('predicted=%f, expected=%f' % (yhat, obs))"
   ]
  },
  {
   "cell_type": "code",
   "execution_count": 81,
   "id": "97f5a611",
   "metadata": {},
   "outputs": [
    {
     "name": "stdout",
     "output_type": "stream",
     "text": [
      "Test RMSE: 9.640\n",
      "Test MAE: 7.915\n",
      "SMAPE: 16.98\n"
     ]
    }
   ],
   "source": [
    "rmse = sqrt(mean_squared_error(testAll14, predictions))\n",
    "print('Test RMSE: %.3f' % rmse)\n",
    "print('Test MAE: %.3f' % mean_absolute_error(testAll14, predictions))\n",
    "\n",
    "def smape(actual, predicted):\n",
    "    return 100 * np.mean(2 * np.abs(predicted - actual) / (np.abs(actual) + np.abs(predicted)))\n",
    "\n",
    "smape_value = smape(testAll14, predictions)\n",
    "print(f'SMAPE: {smape_value:.2f}')"
   ]
  },
  {
   "cell_type": "markdown",
   "id": "73672bed",
   "metadata": {},
   "source": [
    "## All train data taken into account, prediction of last 4 weeks in dataset"
   ]
  },
  {
   "cell_type": "code",
   "execution_count": 76,
   "id": "4e7fdd45",
   "metadata": {},
   "outputs": [],
   "source": [
    "trainAll28, testAll28 = X[0:len(X)-28], X[len(X)-28:len(X)]\n",
    "history = [x for x in trainAll28]\n",
    "predictions = list()"
   ]
  },
  {
   "cell_type": "code",
   "execution_count": 77,
   "id": "890f4e0e",
   "metadata": {},
   "outputs": [
    {
     "name": "stdout",
     "output_type": "stream",
     "text": [
      "predicted=51.430574, expected=51.750000\n",
      "predicted=60.205182, expected=20.450000\n",
      "predicted=36.299236, expected=34.375000\n",
      "predicted=50.700420, expected=33.750000\n",
      "predicted=46.616735, expected=68.875000\n",
      "predicted=72.353308, expected=69.750000\n",
      "predicted=67.114028, expected=65.478261\n",
      "predicted=64.148667, expected=51.333333\n",
      "predicted=54.425572, expected=54.750000\n",
      "predicted=59.231935, expected=60.791667\n",
      "predicted=63.018526, expected=50.416667\n",
      "predicted=54.141812, expected=38.500000\n",
      "predicted=46.662326, expected=34.083333\n",
      "predicted=44.725532, expected=36.000000\n",
      "predicted=46.144435, expected=39.625000\n",
      "predicted=47.875200, expected=48.208333\n",
      "predicted=53.267455, expected=49.208333\n",
      "predicted=52.387613, expected=54.375000\n",
      "predicted=56.084411, expected=41.833333\n",
      "predicted=45.805805, expected=38.000000\n",
      "predicted=44.838308, expected=57.166667\n",
      "predicted=59.615597, expected=66.916667\n",
      "predicted=63.872532, expected=61.583333\n",
      "predicted=58.733593, expected=48.500000\n",
      "predicted=50.173375, expected=41.375000\n",
      "predicted=46.994047, expected=44.521739\n",
      "predicted=50.267282, expected=29.083333\n",
      "predicted=37.753327, expected=49.000000\n"
     ]
    }
   ],
   "source": [
    "# walk-forward validation\n",
    "for t in range(len(testAll28)):\n",
    " model = ARIMA(history, order=(3,0,1))\n",
    " model_fit = model.fit()\n",
    " output = model_fit.forecast()\n",
    " yhat = output[0]\n",
    " predictions.append(yhat)\n",
    " obs = testAll28[t]\n",
    " history.append(obs)\n",
    " print('predicted=%f, expected=%f' % (yhat, obs))"
   ]
  },
  {
   "cell_type": "code",
   "execution_count": 78,
   "id": "45da7a6d",
   "metadata": {},
   "outputs": [
    {
     "name": "stdout",
     "output_type": "stream",
     "text": [
      "Test RMSE: 12.652\n",
      "Test MAE: 9.304\n",
      "SMAPE: 20.05\n"
     ]
    }
   ],
   "source": [
    "rmse = sqrt(mean_squared_error(testAll28, predictions))\n",
    "print('Test RMSE: %.3f' % rmse)\n",
    "print('Test MAE: %.3f' % mean_absolute_error(testAll28, predictions))\n",
    "\n",
    "def smape(actual, predicted):\n",
    "    return 100 * np.mean(2 * np.abs(predicted - actual) / (np.abs(actual) + np.abs(predicted)))\n",
    "\n",
    "smape_value = smape(testAll28, predictions)\n",
    "print(f'SMAPE: {smape_value:.2f}')"
   ]
  },
  {
   "cell_type": "markdown",
   "id": "e7d70888",
   "metadata": {},
   "source": [
    "## 1 year train data taken into account (last 365 days), prediction of last day in dataset"
   ]
  },
  {
   "cell_type": "code",
   "execution_count": 65,
   "id": "f87cf57e",
   "metadata": {},
   "outputs": [],
   "source": [
    "train1Year1Day, test1Year1Day = X[len(X)-365:len(X)-1], X[len(X)-1:len(X)]\n",
    "history = [x for x in train1Year1Day]\n",
    "predictions = list()"
   ]
  },
  {
   "cell_type": "code",
   "execution_count": 70,
   "id": "62885924",
   "metadata": {},
   "outputs": [
    {
     "name": "stdout",
     "output_type": "stream",
     "text": [
      "predicted=58.913292, expected=49.000000\n"
     ]
    }
   ],
   "source": [
    "# walk-forward validation\n",
    "for t in range(len(test1Year1Day)):\n",
    " model = ARIMA(history, order=(3,0,1))\n",
    " model_fit = model.fit()\n",
    " output = model_fit.forecast()\n",
    " yhat = output[0]\n",
    " predictions.append(yhat)\n",
    " obs = test1Year1Day[t]\n",
    " history.append(obs)\n",
    " print('predicted=%f, expected=%f' % (yhat, obs))"
   ]
  },
  {
   "cell_type": "code",
   "execution_count": 67,
   "id": "545d351f",
   "metadata": {},
   "outputs": [
    {
     "data": {
      "text/plain": [
       "DateTime\n",
       "2018-05-22    58.000000\n",
       "2018-05-23    55.000000\n",
       "2018-05-24    47.958333\n",
       "2018-05-25    65.125000\n",
       "2018-05-26    72.750000\n",
       "                ...    \n",
       "2023-05-06    48.500000\n",
       "2023-05-07    41.375000\n",
       "2023-05-08    44.521739\n",
       "2023-05-09    29.083333\n",
       "2023-05-10    49.000000\n",
       "Name: AQI, Length: 1815, dtype: float64"
      ]
     },
     "execution_count": 67,
     "metadata": {},
     "output_type": "execute_result"
    }
   ],
   "source": [
    "X"
   ]
  },
  {
   "cell_type": "code",
   "execution_count": 71,
   "id": "9a3d9be3",
   "metadata": {},
   "outputs": [
    {
     "data": {
      "text/plain": [
       "DateTime\n",
       "2022-05-11    59.541667\n",
       "2022-05-12    55.416667\n",
       "2022-05-13    61.250000\n",
       "2022-05-14    61.791667\n",
       "2022-05-15    54.958333\n",
       "                ...    \n",
       "2023-05-05    61.583333\n",
       "2023-05-06    48.500000\n",
       "2023-05-07    41.375000\n",
       "2023-05-08    44.521739\n",
       "2023-05-09    29.083333\n",
       "Name: AQI, Length: 364, dtype: float64"
      ]
     },
     "execution_count": 71,
     "metadata": {},
     "output_type": "execute_result"
    }
   ],
   "source": [
    "train1Year1Day"
   ]
  },
  {
   "cell_type": "markdown",
   "id": "f062e012",
   "metadata": {},
   "source": [
    "## 1 year train data taken into account (last 365 days), prediction of last 7 days in dataset"
   ]
  },
  {
   "cell_type": "code",
   "execution_count": 89,
   "id": "33e349e8",
   "metadata": {},
   "outputs": [
    {
     "name": "stdout",
     "output_type": "stream",
     "text": [
      "predicted=63.806775, expected=66.916667\n",
      "predicted=71.598111, expected=61.583333\n",
      "predicted=65.363211, expected=48.500000\n",
      "predicted=53.888168, expected=41.375000\n",
      "predicted=48.135530, expected=44.521739\n",
      "predicted=51.988700, expected=29.083333\n",
      "predicted=38.744558, expected=49.000000\n"
     ]
    }
   ],
   "source": [
    "train1Year7Day, test1Year7Day = X[len(X)-365:len(X)-7], X[len(X)-7:len(X)]\n",
    "history = [x for x in train1Year7Day]\n",
    "predictions = list()\n",
    "\n",
    "# walk-forward validation\n",
    "for t in range(len(test1Year7Day)):\n",
    " model = ARIMA(history, order=(3,0,1))\n",
    " model_fit = model.fit()\n",
    " output = model_fit.forecast()\n",
    " yhat = output[0]\n",
    " predictions.append(yhat)\n",
    " obs = test1Year7Day[t]\n",
    " history.append(obs)\n",
    " print('predicted=%f, expected=%f' % (yhat, obs))"
   ]
  },
  {
   "cell_type": "code",
   "execution_count": 91,
   "id": "a9f07811",
   "metadata": {},
   "outputs": [
    {
     "name": "stdout",
     "output_type": "stream",
     "text": [
      "Test RMSE: 13.059\n",
      "Test MAE: 11.325\n",
      "SMAPE: 23.34\n"
     ]
    }
   ],
   "source": [
    "rmse = sqrt(mean_squared_error(test1Year7Day, predictions))\n",
    "print('Test RMSE: %.3f' % rmse)\n",
    "print('Test MAE: %.3f' % mean_absolute_error(test1Year7Day, predictions))\n",
    "\n",
    "def smape(actual, predicted):\n",
    "    return 100 * np.mean(2 * np.abs(predicted - actual) / (np.abs(actual) + np.abs(predicted)))\n",
    "\n",
    "smape_value = smape(test1Year7Day, predictions)\n",
    "print(f'SMAPE: {smape_value:.2f}')"
   ]
  },
  {
   "cell_type": "markdown",
   "id": "ce801b93",
   "metadata": {},
   "source": [
    "## 1 year train data taken into account (last 365 days), prediction of last 2 weeks in dataset"
   ]
  },
  {
   "cell_type": "code",
   "execution_count": 92,
   "id": "89eea99c",
   "metadata": {},
   "outputs": [
    {
     "name": "stdout",
     "output_type": "stream",
     "text": [
      "predicted=63.806775, expected=39.625000\n",
      "predicted=48.053103, expected=48.208333\n",
      "predicted=52.809312, expected=49.208333\n",
      "predicted=58.274160, expected=54.375000\n",
      "predicted=57.823358, expected=41.833333\n",
      "predicted=51.042409, expected=38.000000\n",
      "predicted=43.270327, expected=57.166667\n",
      "predicted=64.820976, expected=66.916667\n",
      "predicted=70.348064, expected=61.583333\n",
      "predicted=66.041905, expected=48.500000\n",
      "predicted=53.160646, expected=41.375000\n",
      "predicted=48.509825, expected=44.521739\n",
      "predicted=51.321596, expected=29.083333\n",
      "predicted=38.772106, expected=49.000000\n"
     ]
    }
   ],
   "source": [
    "train1Year14Day, test1Year14Day = X[len(X)-365:len(X)-14], X[len(X)-14:len(X)]\n",
    "history = [x for x in train1Year7Day]\n",
    "predictions = list()\n",
    "\n",
    "# walk-forward validation\n",
    "for t in range(len(test1Year14Day)):\n",
    " model = ARIMA(history, order=(3,0,1))\n",
    " model_fit = model.fit()\n",
    " output = model_fit.forecast()\n",
    " yhat = output[0]\n",
    " predictions.append(yhat)\n",
    " obs = test1Year14Day[t]\n",
    " history.append(obs)\n",
    " print('predicted=%f, expected=%f' % (yhat, obs))"
   ]
  },
  {
   "cell_type": "code",
   "execution_count": 93,
   "id": "4d20d6c4",
   "metadata": {},
   "outputs": [
    {
     "name": "stdout",
     "output_type": "stream",
     "text": [
      "Test RMSE: 13.024\n",
      "Test MAE: 10.815\n",
      "SMAPE: 22.10\n"
     ]
    }
   ],
   "source": [
    "rmse = sqrt(mean_squared_error(test1Year14Day, predictions))\n",
    "print('Test RMSE: %.3f' % rmse)\n",
    "print('Test MAE: %.3f' % mean_absolute_error(test1Year14Day, predictions))\n",
    "\n",
    "def smape(actual, predicted):\n",
    "    return 100 * np.mean(2 * np.abs(predicted - actual) / (np.abs(actual) + np.abs(predicted)))\n",
    "\n",
    "smape_value = smape(test1Year14Day, predictions)\n",
    "print(f'SMAPE: {smape_value:.2f}')"
   ]
  },
  {
   "cell_type": "markdown",
   "id": "b7dafa57",
   "metadata": {},
   "source": [
    "## 1 year train data taken into account (last 365 days), prediction of last 4 weeks in dataset"
   ]
  },
  {
   "cell_type": "code",
   "execution_count": 94,
   "id": "3175ec6b",
   "metadata": {},
   "outputs": [
    {
     "name": "stdout",
     "output_type": "stream",
     "text": [
      "predicted=62.060557, expected=51.750000\n",
      "predicted=49.042561, expected=20.450000\n",
      "predicted=38.790840, expected=34.375000\n",
      "predicted=36.070774, expected=33.750000\n",
      "predicted=52.055711, expected=68.875000\n",
      "predicted=66.832141, expected=69.750000\n",
      "predicted=81.457206, expected=65.478261\n",
      "predicted=62.020959, expected=51.333333\n",
      "predicted=62.425210, expected=54.750000\n",
      "predicted=55.168840, expected=60.791667\n",
      "predicted=70.490262, expected=50.416667\n",
      "predicted=53.112964, expected=38.500000\n",
      "predicted=48.448731, expected=34.083333\n",
      "predicted=40.954325, expected=36.000000\n",
      "predicted=46.985527, expected=39.625000\n",
      "predicted=47.224411, expected=48.208333\n",
      "predicted=56.598329, expected=49.208333\n",
      "predicted=55.657401, expected=54.375000\n",
      "predicted=60.487177, expected=41.833333\n",
      "predicted=49.449176, expected=38.000000\n",
      "predicted=45.025258, expected=57.166667\n",
      "predicted=63.806775, expected=66.916667\n",
      "predicted=71.598111, expected=61.583333\n",
      "predicted=65.363211, expected=48.500000\n",
      "predicted=53.888168, expected=41.375000\n",
      "predicted=48.135530, expected=44.521739\n",
      "predicted=51.988700, expected=29.083333\n",
      "predicted=38.744558, expected=49.000000\n"
     ]
    }
   ],
   "source": [
    "train1Year28Day, test1Year28Day = X[len(X)-365:len(X)-28], X[len(X)-28:len(X)]\n",
    "history = [x for x in train1Year28Day]\n",
    "predictions = list()\n",
    "\n",
    "# walk-forward validation\n",
    "for t in range(len(test1Year28Day)):\n",
    " model = ARIMA(history, order=(3,0,1))\n",
    " model_fit = model.fit()\n",
    " output = model_fit.forecast()\n",
    " yhat = output[0]\n",
    " predictions.append(yhat)\n",
    " obs = test1Year28Day[t]\n",
    " history.append(obs)\n",
    " print('predicted=%f, expected=%f' % (yhat, obs))"
   ]
  },
  {
   "cell_type": "code",
   "execution_count": 95,
   "id": "cb39137e",
   "metadata": {},
   "outputs": [
    {
     "name": "stdout",
     "output_type": "stream",
     "text": [
      "Test RMSE: 12.648\n",
      "Test MAE: 10.639\n",
      "SMAPE: 21.88\n"
     ]
    }
   ],
   "source": [
    "rmse = sqrt(mean_squared_error(test1Year28Day, predictions))\n",
    "print('Test RMSE: %.3f' % rmse)\n",
    "print('Test MAE: %.3f' % mean_absolute_error(test1Year28Day, predictions))\n",
    "\n",
    "def smape(actual, predicted):\n",
    "    return 100 * np.mean(2 * np.abs(predicted - actual) / (np.abs(actual) + np.abs(predicted)))\n",
    "\n",
    "smape_value = smape(test1Year28Day, predictions)\n",
    "print(f'SMAPE: {smape_value:.2f}')"
   ]
  },
  {
   "cell_type": "markdown",
   "id": "7ee39948",
   "metadata": {},
   "source": [
    "## Half year train data taken into account (last 183 days), prediction of last day in dataset"
   ]
  },
  {
   "cell_type": "code",
   "execution_count": 97,
   "id": "f7f3d2f5",
   "metadata": {},
   "outputs": [
    {
     "name": "stdout",
     "output_type": "stream",
     "text": [
      "predicted=45.342512, expected=49.000000\n"
     ]
    }
   ],
   "source": [
    "trainHalfYear1Day, testHalfYear1Day = X[len(X)-183:len(X)-1], X[len(X)-1:len(X)]\n",
    "history = [x for x in trainHalfYear1Day]\n",
    "predictions = list()\n",
    "\n",
    "# walk-forward validation\n",
    "for t in range(len(testHalfYear1Day)):\n",
    " model = ARIMA(history, order=(3,0,1))\n",
    " model_fit = model.fit()\n",
    " output = model_fit.forecast()\n",
    " yhat = output[0]\n",
    " predictions.append(yhat)\n",
    " obs = testHalfYear1Day[t]\n",
    " history.append(obs)\n",
    " print('predicted=%f, expected=%f' % (yhat, obs))"
   ]
  },
  {
   "cell_type": "code",
   "execution_count": 98,
   "id": "91312a33",
   "metadata": {},
   "outputs": [
    {
     "name": "stdout",
     "output_type": "stream",
     "text": [
      "Test RMSE: 3.657\n",
      "Test MAE: 3.657\n",
      "SMAPE: 7.75\n"
     ]
    }
   ],
   "source": [
    "rmse = sqrt(mean_squared_error(testHalfYear1Day, predictions))\n",
    "print('Test RMSE: %.3f' % rmse)\n",
    "print('Test MAE: %.3f' % mean_absolute_error(testHalfYear1Day, predictions))\n",
    "\n",
    "def smape(actual, predicted):\n",
    "    return 100 * np.mean(2 * np.abs(predicted - actual) / (np.abs(actual) + np.abs(predicted)))\n",
    "\n",
    "smape_value = smape(testHalfYear1Day, predictions)\n",
    "print(f'SMAPE: {smape_value:.2f}')"
   ]
  },
  {
   "cell_type": "markdown",
   "id": "0d786d00",
   "metadata": {},
   "source": [
    "## Half year train data taken into account (last 183 days), prediction of last 7 days in dataset"
   ]
  },
  {
   "cell_type": "code",
   "execution_count": 99,
   "id": "bdce78e5",
   "metadata": {},
   "outputs": [
    {
     "name": "stdout",
     "output_type": "stream",
     "text": [
      "predicted=72.402742, expected=66.916667\n",
      "predicted=78.896241, expected=61.583333\n",
      "predicted=71.419257, expected=48.500000\n",
      "predicted=59.683279, expected=41.375000\n",
      "predicted=54.430510, expected=44.521739\n",
      "predicted=58.949672, expected=29.083333\n",
      "predicted=45.342512, expected=49.000000\n"
     ]
    }
   ],
   "source": [
    "trainHalfYear7Day, testHalfYear7Day = X[len(X)-183:len(X)-7], X[len(X)-7:len(X)]\n",
    "history = [x for x in trainHalfYear7Day]\n",
    "predictions = list()\n",
    "\n",
    "# walk-forward validation\n",
    "for t in range(len(testHalfYear7Day)):\n",
    " model = ARIMA(history, order=(3,0,1))\n",
    " model_fit = model.fit()\n",
    " output = model_fit.forecast()\n",
    " yhat = output[0]\n",
    " predictions.append(yhat)\n",
    " obs = testHalfYear7Day[t]\n",
    " history.append(obs)\n",
    " print('predicted=%f, expected=%f' % (yhat, obs))"
   ]
  },
  {
   "cell_type": "code",
   "execution_count": 100,
   "id": "4cf3482c",
   "metadata": {},
   "outputs": [
    {
     "name": "stdout",
     "output_type": "stream",
     "text": [
      "Test RMSE: 17.703\n",
      "Test MAE: 15.351\n",
      "SMAPE: 28.95\n"
     ]
    }
   ],
   "source": [
    "rmse = sqrt(mean_squared_error(testHalfYear7Day, predictions))\n",
    "print('Test RMSE: %.3f' % rmse)\n",
    "print('Test MAE: %.3f' % mean_absolute_error(testHalfYear7Day, predictions))\n",
    "\n",
    "def smape(actual, predicted):\n",
    "    return 100 * np.mean(2 * np.abs(predicted - actual) / (np.abs(actual) + np.abs(predicted)))\n",
    "\n",
    "smape_value = smape(testHalfYear7Day, predictions)\n",
    "print(f'SMAPE: {smape_value:.2f}')"
   ]
  },
  {
   "cell_type": "markdown",
   "id": "b790cdde",
   "metadata": {},
   "source": [
    "## Half year train data taken into account (last 183 days), prediction of last 2 weeks in dataset"
   ]
  },
  {
   "cell_type": "code",
   "execution_count": 101,
   "id": "2a0a38c4",
   "metadata": {},
   "outputs": [
    {
     "name": "stdout",
     "output_type": "stream",
     "text": [
      "predicted=55.631039, expected=39.625000\n",
      "predicted=56.864976, expected=48.208333\n",
      "predicted=64.913389, expected=49.208333\n",
      "predicted=64.244241, expected=54.375000\n",
      "predicted=67.621295, expected=41.833333\n",
      "predicted=57.071373, expected=38.000000\n",
      "predicted=51.753750, expected=57.166667\n",
      "predicted=72.402742, expected=66.916667\n",
      "predicted=78.896241, expected=61.583333\n",
      "predicted=71.419257, expected=48.500000\n",
      "predicted=59.683279, expected=41.375000\n",
      "predicted=54.430510, expected=44.521739\n",
      "predicted=58.949672, expected=29.083333\n",
      "predicted=45.342512, expected=49.000000\n"
     ]
    }
   ],
   "source": [
    "trainHalfYear14Day, testHalfYear14Day = X[len(X)-183:len(X)-14], X[len(X)-14:len(X)]\n",
    "history = [x for x in trainHalfYear14Day]\n",
    "predictions = list()\n",
    "\n",
    "# walk-forward validation\n",
    "for t in range(len(testHalfYear14Day)):\n",
    " model = ARIMA(history, order=(3,0,1))\n",
    " model_fit = model.fit()\n",
    " output = model_fit.forecast()\n",
    " yhat = output[0]\n",
    " predictions.append(yhat)\n",
    " obs = testHalfYear14Day[t]\n",
    " history.append(obs)\n",
    " print('predicted=%f, expected=%f' % (yhat, obs))"
   ]
  },
  {
   "cell_type": "code",
   "execution_count": 102,
   "id": "f0f05a9f",
   "metadata": {},
   "outputs": [
    {
     "name": "stdout",
     "output_type": "stream",
     "text": [
      "Test RMSE: 16.748\n",
      "Test MAE: 14.855\n",
      "SMAPE: 28.15\n"
     ]
    }
   ],
   "source": [
    "rmse = sqrt(mean_squared_error(testHalfYear14Day, predictions))\n",
    "print('Test RMSE: %.3f' % rmse)\n",
    "print('Test MAE: %.3f' % mean_absolute_error(testHalfYear14Day, predictions))\n",
    "\n",
    "def smape(actual, predicted):\n",
    "    return 100 * np.mean(2 * np.abs(predicted - actual) / (np.abs(actual) + np.abs(predicted)))\n",
    "\n",
    "smape_value = smape(testHalfYear14Day, predictions)\n",
    "print(f'SMAPE: {smape_value:.2f}')"
   ]
  },
  {
   "cell_type": "markdown",
   "id": "b47ca0b2",
   "metadata": {},
   "source": [
    "## Half year train data taken into account (last 183 days), prediction of last 4 weeks in dataset"
   ]
  },
  {
   "cell_type": "code",
   "execution_count": 103,
   "id": "bc7a3dbf",
   "metadata": {},
   "outputs": [
    {
     "name": "stdout",
     "output_type": "stream",
     "text": [
      "predicted=69.395515, expected=51.750000\n",
      "predicted=54.940055, expected=20.450000\n",
      "predicted=51.972498, expected=34.375000\n",
      "predicted=45.928124, expected=33.750000\n",
      "predicted=65.638128, expected=68.875000\n",
      "predicted=76.899498, expected=69.750000\n",
      "predicted=91.766737, expected=65.478261\n",
      "predicted=69.076790, expected=51.333333\n",
      "predicted=70.553559, expected=54.750000\n",
      "predicted=63.955132, expected=60.791667\n",
      "predicted=79.261961, expected=50.416667\n",
      "predicted=61.875866, expected=38.500000\n",
      "predicted=55.982695, expected=34.083333\n",
      "predicted=50.684163, expected=36.000000\n",
      "predicted=55.631039, expected=39.625000\n",
      "predicted=56.864976, expected=48.208333\n",
      "predicted=64.913389, expected=49.208333\n",
      "predicted=64.244241, expected=54.375000\n",
      "predicted=67.621295, expected=41.833333\n",
      "predicted=57.071373, expected=38.000000\n",
      "predicted=51.753750, expected=57.166667\n",
      "predicted=72.402742, expected=66.916667\n",
      "predicted=78.896241, expected=61.583333\n",
      "predicted=71.419257, expected=48.500000\n",
      "predicted=59.683279, expected=41.375000\n",
      "predicted=54.430510, expected=44.521739\n",
      "predicted=58.949672, expected=29.083333\n",
      "predicted=45.342512, expected=49.000000\n"
     ]
    }
   ],
   "source": [
    "trainHalfYear28Day, testHalfYear28Day = X[len(X)-183:len(X)-28], X[len(X)-28:len(X)]\n",
    "history = [x for x in trainHalfYear28Day]\n",
    "predictions = list()\n",
    "\n",
    "# walk-forward validation\n",
    "for t in range(len(testHalfYear28Day)):\n",
    " model = ARIMA(history, order=(3,0,1))\n",
    " model_fit = model.fit()\n",
    " output = model_fit.forecast()\n",
    " yhat = output[0]\n",
    " predictions.append(yhat)\n",
    " obs = testHalfYear28Day[t]\n",
    " history.append(obs)\n",
    " print('predicted=%f, expected=%f' % (yhat, obs))"
   ]
  },
  {
   "cell_type": "code",
   "execution_count": 104,
   "id": "7c0e3609",
   "metadata": {},
   "outputs": [
    {
     "name": "stdout",
     "output_type": "stream",
     "text": [
      "Test RMSE: 18.212\n",
      "Test MAE: 16.145\n",
      "SMAPE: 30.98\n"
     ]
    }
   ],
   "source": [
    "rmse = sqrt(mean_squared_error(testHalfYear28Day, predictions))\n",
    "print('Test RMSE: %.3f' % rmse)\n",
    "print('Test MAE: %.3f' % mean_absolute_error(testHalfYear28Day, predictions))\n",
    "\n",
    "def smape(actual, predicted):\n",
    "    return 100 * np.mean(2 * np.abs(predicted - actual) / (np.abs(actual) + np.abs(predicted)))\n",
    "\n",
    "smape_value = smape(testHalfYear28Day, predictions)\n",
    "print(f'SMAPE: {smape_value:.2f}')"
   ]
  }
 ],
 "metadata": {
  "kernelspec": {
   "display_name": "Python 3 (ipykernel)",
   "language": "python",
   "name": "python3"
  },
  "language_info": {
   "codemirror_mode": {
    "name": "ipython",
    "version": 3
   },
   "file_extension": ".py",
   "mimetype": "text/x-python",
   "name": "python",
   "nbconvert_exporter": "python",
   "pygments_lexer": "ipython3",
   "version": "3.9.13"
  }
 },
 "nbformat": 4,
 "nbformat_minor": 5
}
